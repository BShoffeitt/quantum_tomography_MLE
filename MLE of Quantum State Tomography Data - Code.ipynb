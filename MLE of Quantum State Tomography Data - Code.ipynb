{
 "cells": [
  {
   "cell_type": "code",
   "execution_count": 1,
   "metadata": {},
   "outputs": [
    {
     "name": "stdout",
     "output_type": "stream",
     "text": [
      "1786 steps to converge\n",
      "magintude of the components of rho: \n",
      "[[0.01  0.006 0.015 0.005]\n",
      " [0.006 0.569 0.444 0.032]\n",
      " [0.015 0.444 0.416 0.023]\n",
      " [0.005 0.032 0.023 0.005]]\n",
      "phase of the components of rho (rad): \n",
      "[[ 0.    -0.95   1.133 -2.416]\n",
      " [ 0.95   0.    -1.45  -2.723]\n",
      " [-1.133  1.45   0.    -1.778]\n",
      " [ 2.416  2.723  1.778 -0.   ]]\n"
     ]
    }
   ],
   "source": [
    "# Performs maximum likelihood estimation on quantum state tomography data obtained from Stephenson et. al.\n",
    "\n",
    "import numpy as np\n",
    "import pandas as pd\n",
    "from scipy.linalg import sqrtm\n",
    "\n",
    "# Pauli matrix eigenvectors\n",
    "pauli_evecs = { \n",
    "    0 : np.array([1, 0]), # z+\n",
    "    1 : np.array([0, 1]), # z-\n",
    "    2 : np.array([1, 1]) / np.sqrt(2), # x+\n",
    "    3 : np.array([1, -1]) / np.sqrt(2), # x-\n",
    "    4 : np.array([1, 1j]) / np.sqrt(2), # y+\n",
    "    5 : np.array([1, -1j]) / np.sqrt(2), # y-\n",
    "}\n",
    "\n",
    "pauli_key = {0 : \"Z\", 1 : \"X\", 2 : \"Y\"}\n",
    "pauli_tens_key = {0 : \"ZZ\", 1 : \"ZX\", 2 : \"ZY\", 3 : \"XZ\", 4 : \"XX\", 5 : \"XY\", 6 : \"YZ\", 7 : \"YX\", 8 : \"YY\"}\n",
    "projectors = {}\n",
    "\n",
    "# build a dict with the projectors corresponding to each pair of Pauli operators\n",
    "for i in range(9):\n",
    "    a = np.floor(i / 3) # index of operator A\n",
    "    b = i % 3 # index of operator B\n",
    "    \n",
    "    psi = {0 : pauli_evecs[2 * a], 1 : pauli_evecs[2 * a + 1], 2 : pauli_evecs[2 * b], 3 : pauli_evecs[2 * b + 1]} # eigenvectors of A+, A-, B+, B-\n",
    "    proj = np.zeros((4, 4, 4)).astype(np.cdouble)\n",
    "    \n",
    "    for j in range(4):\n",
    "        psi_tens = np.kron(psi[j % 2], psi[2 + np.floor(j / 2)]) # compute the tensor product\n",
    "        proj[:, :, j] = np.outer(psi_tens, np.conjugate(psi_tens)) # store the 4x4 projector in one layer of proj\n",
    "    \n",
    "    projectors[i] = proj \n",
    "    \n",
    "# import data\n",
    "df = pd.read_csv('stephenson_data.csv', usecols=range(2,6))\n",
    "data = np.zeros((9, 4))\n",
    "data[:,:] = df.loc[:,:]\n",
    "\n",
    "def R_op(rho, data_arr, count): # compute the Hermitian operator R(rho)\n",
    "    r = 0\n",
    "    for i in range(9): # iterate through each POVM measurement\n",
    "        proj = projectors[i] \n",
    "        for j in range(4): # iterate through the four projectors of this POVM measurement\n",
    "            r += data_arr[i, j] / np.trace(np.dot(proj[:, :, j], rho)) * proj[:, :, j]     \n",
    "    return r / count\n",
    "\n",
    "def find_MLE(data_arr, thresh):\n",
    "    count = np.sum(np.sum(data_arr,axis=0),axis=0) # total number of observations\n",
    "\n",
    "    eps = 0.5 # dilution factor\n",
    "    I = np.eye(4)\n",
    "\n",
    "    rho = I / np.trace(I).astype(np.cdouble) # initial guess for rho\n",
    "    k = 0 # algorithm step\n",
    "    err = 1 # initialize error\n",
    "\n",
    "    while err > thresh:\n",
    "        k += 1\n",
    "        old_rho = rho\n",
    "        R = (I + eps * R_op(rho, data_arr[:, :], count)) / (1 + eps) # calculate the diluted operator R'(rho)\n",
    "        rho = np.linalg.multi_dot((R, rho, R)) # calculate new rho\n",
    "        rho = rho / np.trace(rho) # normalize new rho\n",
    "        err = np.amax(np.absolute(rho - old_rho)) # compute the error in the max norm between the new and old rho\n",
    "\n",
    "    # permute the axes of rho for consistency with the basis used in Stephenson et. al.\n",
    "    P = np.array([[0,0,0,1], [0,1,0,0], [0,0,1,0], [1,0,0,0]])\n",
    "    rho = np.transpose(P) @ rho @ P\n",
    "\n",
    "    return rho, k\n",
    "\n",
    "rho, k = find_MLE(data, 1e-8) \n",
    "\n",
    "print(str(k) + ' steps to converge')\n",
    "print('magintude of the components of rho: ')\n",
    "print(np.round(np.abs(rho),3))\n",
    "print('phase of the components of rho (rad): ')\n",
    "print(np.round(np.angle(rho),3))"
   ]
  },
  {
   "cell_type": "code",
   "execution_count": 2,
   "metadata": {},
   "outputs": [
    {
     "data": {
      "image/png": "[encoded data removed]",
      "text/plain": [
       "<Figure size 504x288 with 3 Axes>"
      ]
     },
     "metadata": {
      "needs_background": "light"
     },
     "output_type": "display_data"
    }
   ],
   "source": [
    "# Plots the phase and magnitude of the MLE estimate of the density matrix\n",
    "\n",
    "import matplotlib as mpl\n",
    "import matplotlib.pyplot as plt\n",
    "from matplotlib import cm\n",
    "from itertools import product \n",
    "\n",
    "fig = plt.figure(figsize=(7,4), constrained_layout=False)\n",
    "spec = fig.add_gridspec(2, 2, width_ratios=[6, 1], height_ratios=[3, 1], hspace=0.35, wspace=-0.2)\n",
    "cmap = 'twilight_shifted'\n",
    "\n",
    "ax0 = fig.add_subplot(spec[:, 0]) # main density matrix plot\n",
    "ax01 = fig.add_subplot(spec[0, 1]) # magnitude key\n",
    "ax11 = fig.add_subplot(spec[1, 1], projection='polar') # phase key\n",
    "\n",
    "# main density matrix plot\n",
    "c = np.angle(np.transpose(rho).flatten()) # color data\n",
    "p = 1 # exponent for scaling tile size; the smaller this is the closer in size the tiles will be\n",
    "A = 5000 # scaling factor for tile size\n",
    "s = A*np.abs(rho)**p # tile size\n",
    "\n",
    "pts = np.array(list(product(range(4), range(4))))\n",
    "im0 = ax0.scatter(pts[:,0], pts[:,1], marker='s', s=s, c=c, cmap=cmap)\n",
    "im0.set_clim(vmin=-np.pi, vmax=np.pi)\n",
    "ax0.set_aspect('equal', 'box')\n",
    "ax0.set_xlim(-0.25,3.25)\n",
    "ax0.set_ylim(-0.25,3.25)\n",
    "\n",
    "ax0.invert_yaxis()\n",
    "ax0.xaxis.tick_top()\n",
    "ax0.set_xticks([0,1,2,3])\n",
    "ax0.set_yticks([0,1,2,3])\n",
    "ax0.xaxis.set_ticks_position('none')\n",
    "ax0.yaxis.set_ticks_position('none')\n",
    "ax0.set_yticklabels([r'$\\vert 00 \\rangle$', r'$\\vert 01 \\rangle$', r'$\\vert 10 \\rangle$', r'$\\vert 11 \\rangle$'])\n",
    "ax0.set_xticklabels([r'$\\langle 00 \\vert$', r'$\\langle 01 \\vert$', r'$\\langle 10 \\vert$', r'$\\langle 11 \\vert$'])\n",
    "ax0.set_frame_on(False)\n",
    "ax0.tick_params(labelsize=14) \n",
    "\n",
    "# magnitude key\n",
    "c = np.ones(5)\n",
    "s = A*np.array([0.005, 0.02, 0.05, 0.2, 0.5])**p\n",
    "y = [-0.1, 0.45, 1.25, 2.45, 4.4]\n",
    "pts = np.array(list(product(range(1),y)))\n",
    "\n",
    "ax01.scatter(pts[:,0], pts[:,1], marker='s', s=s, c=c, cmap='twilight')\n",
    "ax01.set_ylim(-0.25,5.45)\n",
    "ax01.set_xlim(-1.75,2)\n",
    "ax01.axis('off')\n",
    "\n",
    "text_offset = 0.18 # adding and positioning text labels\n",
    "ax01.text(0.6,y[0] - text_offset,'0.005')\n",
    "ax01.text(0.8,y[1] - text_offset,'0.02')\n",
    "ax01.text(1.0,y[2] - text_offset,'0.05')\n",
    "ax01.text(1.3,y[3] - text_offset,'0.2')\n",
    "ax01.text(1.85,y[4] - text_offset,'0.5')\n",
    "\n",
    "box = ax01.get_position() # adjust key placement\n",
    "box.y1 = box.y1 + 0.07\n",
    "box.y0 = box.y0 + 0.07\n",
    "ax01.set_position(box)\n",
    "\n",
    "# phase key (adapted from https://stackoverflow.com/questions/31940285/plot-a-polar-color-wheel-based-on-a-colormap-using-python-matplotlib)\n",
    "norm = mpl.colors.Normalize(0, 2*np.pi) \n",
    "\n",
    "n = 200\n",
    "t = np.linspace(-np.pi,np.pi,n)\n",
    "r = np.linspace(.4,1,2)\n",
    "rg, tg = np.meshgrid(r,t)\n",
    "c = tg\n",
    "\n",
    "im11 = ax11.pcolormesh(t, r, c.T, cmap='twilight_shifted') # plot the colormesh on axis with colormap\n",
    "ax11.set_yticklabels([])\n",
    "ax11.tick_params(pad=2,labelsize=12)\n",
    "ax11.spines['polar'].set_visible(False)\n",
    "ax11.set_xticks([0, np.pi/2, np.pi, 3*np.pi/2])  \n",
    "ax11.set_xticklabels(([r'$0$', r'$\\pi/2$', r'$\\pi$', r'$3\\pi/2$'])) \n",
    "\n",
    "box = ax11.get_position() # adjust key placement\n",
    "box.y1 = box.y1 + 0.07\n",
    "box.y0 = box.y0 + 0.07\n",
    "ax11.set_position(box)\n",
    "\n",
    "plt.show()"
   ]
  },
  {
   "cell_type": "code",
   "execution_count": 3,
   "metadata": {},
   "outputs": [
    {
     "data": {
      "image/png": "[encoded data removed]",
      "text/plain": [
       "<Figure size 432x432 with 3 Axes>"
      ]
     },
     "metadata": {
      "needs_background": "light"
     },
     "output_type": "display_data"
    }
   ],
   "source": [
    "# Compares the phases of our MLE estimate of theta and that of Stephenson et. al.\n",
    "\n",
    "# construct an array containing the MLE estimate of rho from Stephenson et. al.\n",
    "phase = np.array([[0, -1.198, -1.861, -0.231], [1.198, 0, -1.539, -0.633], [1.861, 1.539, 0, -0.934], [0.231, 0.633, 0.934, 0]])\n",
    "rho_s = np.array([np.exp(1j * np.pi * phi) for phi in phase])\n",
    "rho_s = np.multiply(np.abs(rho).astype(np.cdouble), rho_s) # uses the magnitudes we obtained since they are identical\n",
    "\n",
    "fig, axs = plt.subplots(ncols=2, figsize=(6,6))\n",
    "fig.tight_layout()\n",
    "\n",
    "cmap='twilight_shifted'\n",
    "mp0 = axs[0].matshow(np.angle(rho), cmap=cmap) # our estimate of rho\n",
    "mp1 = axs[1].matshow(np.angle(rho_s), cmap=cmap) # estimate of rho from Stephenson et. al.\n",
    "mp0.set_clim(vmin=-np.pi, vmax=np.pi)\n",
    "mp1.set_clim(vmin=-np.pi, vmax=np.pi)\n",
    "cbar = plt.colorbar(mp0, orientation='horizontal', ticks=[-np.pi, -np.pi/2, 0, np.pi/2, np.pi], ax=axs.ravel().tolist(), pad=0.05)\n",
    "cbar.ax.set_xticklabels([r'$-\\pi$', r'$-\\pi/2$', r'$0$', r'$\\pi/2$', r'$\\pi$']) \n",
    "cbar.outline.set_visible(False)\n",
    "\n",
    "for ax in axs:  \n",
    "    ax.xaxis.set_ticks_position('none')\n",
    "    ax.yaxis.set_ticks_position('none')\n",
    "    ax.set_xticks([0,1,2,3])\n",
    "    ax.set_yticks([0,1,2,3])\n",
    "    ax.set_yticklabels([r'$\\vert 00 \\rangle$', r'$\\vert 01 \\rangle$', r'$\\vert 10 \\rangle$', r'$\\vert 11 \\rangle$'])\n",
    "    ax.set_xticklabels([r'$\\langle 00 \\vert$', r'$\\langle 01 \\vert$', r'$\\langle 10 \\vert$', r'$\\langle 11 \\vert$'])\n",
    "    ax.set_frame_on(False)\n",
    "\n",
    "plt.show()"
   ]
  },
  {
   "cell_type": "code",
   "execution_count": 4,
   "metadata": {},
   "outputs": [
    {
     "name": "stdout",
     "output_type": "stream",
     "text": [
      "our estimate: 2888.25\n",
      "Stephenson et. al. estimate - 2106.70\n"
     ]
    }
   ],
   "source": [
    "# Evaluates the log-likelihood function for our estimate of rho and that of Stephenson et. al.\n",
    "\n",
    "def log_likelihood(rho, data_arr):\n",
    "    ll = 0\n",
    "    for i in range(9): # iterate through each POVM measurement\n",
    "        proj = projectors[i] \n",
    "        for j in range(4): # iterate through the four projectors of this POVM measurement\n",
    "            ll += data_arr[i, j] * np.trace(np.dot(proj[:, :, j], rho))\n",
    "    return np.real(ll)\n",
    "\n",
    "print('our estimate: {:.2f}'.format(log_likelihood(rho, data)))\n",
    "print('Stephenson et. al. estimate - {:.2f}'.format(log_likelihood(rho_s, data)))"
   ]
  },
  {
   "cell_type": "code",
   "execution_count": 5,
   "metadata": {},
   "outputs": [],
   "source": [
    "# Generates parametric bootstrap samples and performs maximum likelihood estimation of the bootstrap density matrices\n",
    "\n",
    "verbose = False # set to True to track the progress as the script is running\n",
    "\n",
    "bootstrap_samples = 2500\n",
    "bootstrap_data = np.zeros([9, 4, bootstrap_samples]) # store each 9x4 data table in a layer\n",
    "bootstrap_rho = np.zeros([4, 4, bootstrap_samples]).astype(np.cdouble) # store each 9x4 data table in a layer\n",
    "\n",
    "POVM_counts = np.sum(data, axis=1).astype(int) # count the number of measurements in each experiment for consistency\n",
    "if verbose: print('Generating bootstrapping samples...')\n",
    "\n",
    "for s in range(bootstrap_samples):\n",
    "    for i in range(9):\n",
    "        proj = projectors[i]\n",
    "        uniform = np.random.rand(POVM_counts[i])\n",
    "        pmf = np.array([np.real(np.trace(proj[:, :, j] @ rho)) for j in range(4)]) # calculate the pmf of the four measurement outcomes\n",
    "        cdf = np.insert(np.cumsum(pmf), 0, 0) # calculate the cumulative distribution for determining bins\n",
    "        \n",
    "        for j in range(4):\n",
    "            bootstrap_data[i, j, s] = ((cdf[j] < uniform) & (uniform <= cdf[j + 1])).sum() # count the number of uniform datapoints in each bin\n",
    "        \n",
    "    bootstrap_rho[:, :, s] = find_MLE(bootstrap_data[:, :, s], 1e-5)[0] # estimate the density matrix for each bootstrap sample\n",
    "    if s % 100 == 0 and verbose: print(str(s) + '/' + str(bootstrap_samples))\n",
    "    \n",
    "if verbose: print('Done.')"
   ]
  },
  {
   "cell_type": "code",
   "execution_count": 6,
   "metadata": {},
   "outputs": [
    {
     "data": {
      "image/png": "[encoded data removed]",
      "text/plain": [
       "<Figure size 432x216 with 1 Axes>"
      ]
     },
     "metadata": {
      "needs_background": "light"
     },
     "output_type": "display_data"
    }
   ],
   "source": [
    "# Plots the empirical distribution of the phase of the (3, 2) component of the bootstrap density matrices\n",
    "\n",
    "from scipy.special import erf\n",
    "\n",
    "phi = np.array([np.angle(bootstrap_rho[2,1,s]) for s in range(bootstrap_samples)])\n",
    "emp_cdf = lambda x : np.size(phi[phi <= x]) / len(phi) # empirical cdf of the data\n",
    "N = 250\n",
    "x_arr = np.linspace(np.min(phi), np.max(phi), N)\n",
    "y_arr = np.array([emp_cdf(x) for x in x_arr])\n",
    "\n",
    "z_arr = (x_arr - np.mean(phi)) / np.std(phi) # apparent variation is closer to 80% of this\n",
    "Phi = lambda z : (1 + erf(z / np.sqrt(2))) / 2 # standard normal cdf\n",
    "normal_cdf = np.array([Phi(z) for z in z_arr]) # evaluate the normal cdf at the query x values\n",
    "\n",
    "fig, ax = plt.subplots(figsize=(6,3))\n",
    "\n",
    "ax.plot(x_arr, normal_cdf, '#003f5c')\n",
    "ax.plot(x_arr, y_arr, '#ff6361')\n",
    "\n",
    "ax.set_xlim(1.4, 1.5)\n",
    "ax.set_xlabel('Phase (rad)')\n",
    "ax.set_ylabel('Probability')\n",
    "ax.legend(['normal fit', 'empirical cdf'])\n",
    "plt.show()"
   ]
  },
  {
   "cell_type": "code",
   "execution_count": 7,
   "metadata": {},
   "outputs": [
    {
     "name": "stdout",
     "output_type": "stream",
     "text": [
      "U = 5.5360, p-value: 0.7853\n"
     ]
    }
   ],
   "source": [
    "# Performs a chi-squared test for normality of the (3, 2) component of the bootstrap density matrices\n",
    "\n",
    "from scipy.stats import norm\n",
    "from scipy.stats.distributions import chi2\n",
    "\n",
    "n = len(phi)\n",
    "m = 10 # number of partition intervals\n",
    "bins = np.arange(0, 1 + 1/m, 1/m) # calculate partition endpoints\n",
    "bins = norm.ppf(bins)\n",
    "z = (phi - np.mean(phi)) / np.std(phi)\n",
    "w = np.histogram(z, bins=bins)[0] \n",
    "p = 1 / m # probability for each bin\n",
    "\n",
    "U = np.sum((w - n * p)**2) / (n * p) # observed value of the statistic U\n",
    "p_value = 1 - chi2.cdf(U, df=m - 1) # calculate p value corresponding to U\n",
    "print(\"U = {:.4f}, p-value: {:.4f}\".format(U, p_value))"
   ]
  },
  {
   "cell_type": "code",
   "execution_count": 8,
   "metadata": {},
   "outputs": [
    {
     "data": {
      "image/png": "[encoded data removed]",
      "text/plain": [
       "<Figure size 432x216 with 1 Axes>"
      ]
     },
     "metadata": {
      "needs_background": "light"
     },
     "output_type": "display_data"
    }
   ],
   "source": [
    "# Plots the empirical distribution of the phase of the outer components of the bootstrap density matrices\n",
    "\n",
    "index_pairs = ((1,0), (2,0), (3,0), (3,1), (3,2))\n",
    "\n",
    "phases = [np.array([np.angle(bootstrap_rho[ind[0], ind[1], s]) for s in range(bootstrap_samples)]) for ind in index_pairs]\n",
    "emp_cdfs = [lambda x, ph=ph: np.size(ph[ph <= x]) / len(ph) for ph in phases]\n",
    "\n",
    "N = 250\n",
    "x_arr = np.linspace(-np.pi, np.pi, N)\n",
    "y_arrs = [np.array([cdf(x) for x in x_arr]) for cdf in emp_cdfs]\n",
    "\n",
    "colors = ['#003f5c', '#58508d', '#bc5090', '#ff6361', '#ffa600']\n",
    "\n",
    "fig, ax = plt.subplots(figsize=(6,3))\n",
    "ax.plot(x_arr, np.linspace(0, 1, len(x_arr)), '#000000', linestyle='dashed', label='_nolegend_') # dashed line for uniform distribution\n",
    "for i in range(len(phases)):\n",
    "    ax.plot(x_arr, y_arrs[i], colors[i])\n",
    "\n",
    "ax.set_xticks([-np.pi, -np.pi/2, 0, np.pi/2, np.pi])\n",
    "ax.set_xticklabels([r'$-\\pi$', r'$-\\pi/2$', r'$0$', r'$\\pi/2$', r'$\\pi$']) \n",
    "ax.set_xlim(-np.pi, np.pi)\n",
    "ax.set_xlabel('Phase (rad)')\n",
    "ax.set_ylabel('Probability')\n",
    "ax.legend(['(2, 1)', '(3, 1)', '(4, 1)', '(4, 2)', '(4, 3)'])\n",
    "plt.show()"
   ]
  }
 ],
 "metadata": {
  "kernelspec": {
   "display_name": "Python 3",
   "language": "python",
   "name": "python3"
  },
  "language_info": {
   "codemirror_mode": {
    "name": "ipython",
    "version": 3
   },
   "file_extension": ".py",
   "mimetype": "text/x-python",
   "name": "python",
   "nbconvert_exporter": "python",
   "pygments_lexer": "ipython3",
   "version": "3.7.6"
  }
 },
 "nbformat": 4,
 "nbformat_minor": 4
}
